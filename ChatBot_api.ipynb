{
  "nbformat": 4,
  "nbformat_minor": 0,
  "metadata": {
    "colab": {
      "name": "ChatBot_api.ipynb",
      "provenance": [],
      "collapsed_sections": []
    },
    "kernelspec": {
      "name": "python3",
      "display_name": "Python 3"
    },
    "language_info": {
      "name": "python"
    }
  },
  "cells": [
    {
      "cell_type": "code",
      "execution_count": 1,
      "metadata": {
        "colab": {
          "base_uri": "https://localhost:8080/"
        },
        "id": "5L4m4CmhI5mv",
        "outputId": "33936c21-379e-4d75-d84d-3fe99f36f2de"
      },
      "outputs": [
        {
          "output_type": "stream",
          "name": "stdout",
          "text": [
            "Requirement already satisfied: nest_asyncio==1.3.3 in /usr/local/lib/python3.7/dist-packages (1.3.3)\n"
          ]
        }
      ],
      "source": [
        "!pip install nest_asyncio==1.3.3"
      ]
    },
    {
      "cell_type": "code",
      "source": [
        "!pip install rasa_nlu[spacy]"
      ],
      "metadata": {
        "colab": {
          "base_uri": "https://localhost:8080/"
        },
        "id": "x45ZGFiPJAnc",
        "outputId": "361374b7-4f3e-48ce-baa7-9ca8d7e32fa2"
      },
      "execution_count": 2,
      "outputs": [
        {
          "output_type": "stream",
          "name": "stdout",
          "text": [
            "Requirement already satisfied: rasa_nlu[spacy] in /usr/local/lib/python3.7/dist-packages (0.15.1)\n",
            "Requirement already satisfied: ruamel.yaml~=0.15.7 in /usr/local/lib/python3.7/dist-packages (from rasa_nlu[spacy]) (0.15.100)\n",
            "Requirement already satisfied: simplejson~=3.13 in /usr/local/lib/python3.7/dist-packages (from rasa_nlu[spacy]) (3.17.6)\n",
            "Requirement already satisfied: coloredlogs~=10.0 in /usr/local/lib/python3.7/dist-packages (from rasa_nlu[spacy]) (10.0)\n",
            "Requirement already satisfied: future~=0.17.1 in /usr/local/lib/python3.7/dist-packages (from rasa_nlu[spacy]) (0.17.1)\n",
            "Requirement already satisfied: requests~=2.20 in /usr/local/lib/python3.7/dist-packages (from rasa_nlu[spacy]) (2.27.1)\n",
            "Requirement already satisfied: numpy>=1.16 in /usr/local/lib/python3.7/dist-packages (from rasa_nlu[spacy]) (1.19.5)\n",
            "Requirement already satisfied: cloudpickle~=0.6.1 in /usr/local/lib/python3.7/dist-packages (from rasa_nlu[spacy]) (0.6.1)\n",
            "Requirement already satisfied: jsonschema~=2.6 in /usr/local/lib/python3.7/dist-packages (from rasa_nlu[spacy]) (2.6.0)\n",
            "Requirement already satisfied: matplotlib~=2.2 in /usr/local/lib/python3.7/dist-packages (from rasa_nlu[spacy]) (2.2.5)\n",
            "Requirement already satisfied: typing~=3.6 in /usr/local/lib/python3.7/dist-packages (from rasa_nlu[spacy]) (3.7.4.3)\n",
            "Requirement already satisfied: tqdm~=4.19 in /usr/local/lib/python3.7/dist-packages (from rasa_nlu[spacy]) (4.62.3)\n",
            "Requirement already satisfied: packaging~=18.0 in /usr/local/lib/python3.7/dist-packages (from rasa_nlu[spacy]) (18.0)\n",
            "Requirement already satisfied: boto3~=1.9 in /usr/local/lib/python3.7/dist-packages (from rasa_nlu[spacy]) (1.20.46)\n",
            "Requirement already satisfied: klein~=17.10 in /usr/local/lib/python3.7/dist-packages (from rasa_nlu[spacy]) (17.10.0)\n",
            "Requirement already satisfied: scikit-learn~=0.20.2 in /usr/local/lib/python3.7/dist-packages (from rasa_nlu[spacy]) (0.20.4)\n",
            "Requirement already satisfied: gevent~=1.3 in /usr/local/lib/python3.7/dist-packages (from rasa_nlu[spacy]) (1.5.0)\n",
            "Requirement already satisfied: spacy<=2.0.18,>2.0 in /usr/local/lib/python3.7/dist-packages (from rasa_nlu[spacy]) (2.0.18)\n",
            "Requirement already satisfied: sklearn-crfsuite~=0.3.6 in /usr/local/lib/python3.7/dist-packages (from rasa_nlu[spacy]) (0.3.6)\n",
            "Requirement already satisfied: scipy~=1.2 in /usr/local/lib/python3.7/dist-packages (from rasa_nlu[spacy]) (1.4.1)\n",
            "Requirement already satisfied: jmespath<1.0.0,>=0.7.1 in /usr/local/lib/python3.7/dist-packages (from boto3~=1.9->rasa_nlu[spacy]) (0.10.0)\n",
            "Requirement already satisfied: botocore<1.24.0,>=1.23.46 in /usr/local/lib/python3.7/dist-packages (from boto3~=1.9->rasa_nlu[spacy]) (1.23.46)\n",
            "Requirement already satisfied: s3transfer<0.6.0,>=0.5.0 in /usr/local/lib/python3.7/dist-packages (from boto3~=1.9->rasa_nlu[spacy]) (0.5.0)\n",
            "Requirement already satisfied: urllib3<1.27,>=1.25.4 in /usr/local/lib/python3.7/dist-packages (from botocore<1.24.0,>=1.23.46->boto3~=1.9->rasa_nlu[spacy]) (1.26.8)\n",
            "Requirement already satisfied: python-dateutil<3.0.0,>=2.1 in /usr/local/lib/python3.7/dist-packages (from botocore<1.24.0,>=1.23.46->boto3~=1.9->rasa_nlu[spacy]) (2.8.2)\n",
            "Requirement already satisfied: humanfriendly>=4.7 in /usr/local/lib/python3.7/dist-packages (from coloredlogs~=10.0->rasa_nlu[spacy]) (10.0)\n",
            "Requirement already satisfied: greenlet>=0.4.14 in /usr/local/lib/python3.7/dist-packages (from gevent~=1.3->rasa_nlu[spacy]) (1.1.2)\n",
            "Requirement already satisfied: werkzeug in /usr/local/lib/python3.7/dist-packages (from klein~=17.10->rasa_nlu[spacy]) (1.0.1)\n",
            "Requirement already satisfied: Twisted>=15.5 in /usr/local/lib/python3.7/dist-packages (from klein~=17.10->rasa_nlu[spacy]) (21.7.0)\n",
            "Requirement already satisfied: six in /usr/local/lib/python3.7/dist-packages (from klein~=17.10->rasa_nlu[spacy]) (1.15.0)\n",
            "Requirement already satisfied: incremental in /usr/local/lib/python3.7/dist-packages (from klein~=17.10->rasa_nlu[spacy]) (21.3.0)\n",
            "Requirement already satisfied: kiwisolver>=1.0.1 in /usr/local/lib/python3.7/dist-packages (from matplotlib~=2.2->rasa_nlu[spacy]) (1.3.2)\n",
            "Requirement already satisfied: cycler>=0.10 in /usr/local/lib/python3.7/dist-packages (from matplotlib~=2.2->rasa_nlu[spacy]) (0.11.0)\n",
            "Requirement already satisfied: pytz in /usr/local/lib/python3.7/dist-packages (from matplotlib~=2.2->rasa_nlu[spacy]) (2018.9)\n",
            "Requirement already satisfied: pyparsing!=2.0.4,!=2.1.2,!=2.1.6,>=2.0.1 in /usr/local/lib/python3.7/dist-packages (from matplotlib~=2.2->rasa_nlu[spacy]) (3.0.7)\n",
            "Requirement already satisfied: idna<4,>=2.5 in /usr/local/lib/python3.7/dist-packages (from requests~=2.20->rasa_nlu[spacy]) (2.10)\n",
            "Requirement already satisfied: charset-normalizer~=2.0.0 in /usr/local/lib/python3.7/dist-packages (from requests~=2.20->rasa_nlu[spacy]) (2.0.10)\n",
            "Requirement already satisfied: certifi>=2017.4.17 in /usr/local/lib/python3.7/dist-packages (from requests~=2.20->rasa_nlu[spacy]) (2021.10.8)\n",
            "Requirement already satisfied: tabulate in /usr/local/lib/python3.7/dist-packages (from sklearn-crfsuite~=0.3.6->rasa_nlu[spacy]) (0.8.9)\n",
            "Requirement already satisfied: python-crfsuite>=0.8.3 in /usr/local/lib/python3.7/dist-packages (from sklearn-crfsuite~=0.3.6->rasa_nlu[spacy]) (0.9.7)\n",
            "Requirement already satisfied: preshed<2.1.0,>=2.0.1 in /usr/local/lib/python3.7/dist-packages (from spacy<=2.0.18,>2.0->rasa_nlu[spacy]) (2.0.1)\n",
            "Requirement already satisfied: murmurhash<1.1.0,>=0.28.0 in /usr/local/lib/python3.7/dist-packages (from spacy<=2.0.18,>2.0->rasa_nlu[spacy]) (1.0.6)\n",
            "Requirement already satisfied: dill<0.3,>=0.2 in /usr/local/lib/python3.7/dist-packages (from spacy<=2.0.18,>2.0->rasa_nlu[spacy]) (0.2.9)\n",
            "Requirement already satisfied: ujson>=1.35 in /usr/local/lib/python3.7/dist-packages (from spacy<=2.0.18,>2.0->rasa_nlu[spacy]) (5.1.0)\n",
            "Requirement already satisfied: cymem<2.1.0,>=2.0.2 in /usr/local/lib/python3.7/dist-packages (from spacy<=2.0.18,>2.0->rasa_nlu[spacy]) (2.0.6)\n",
            "Requirement already satisfied: thinc<6.13.0,>=6.12.1 in /usr/local/lib/python3.7/dist-packages (from spacy<=2.0.18,>2.0->rasa_nlu[spacy]) (6.12.1)\n",
            "Requirement already satisfied: regex==2018.01.10 in /usr/local/lib/python3.7/dist-packages (from spacy<=2.0.18,>2.0->rasa_nlu[spacy]) (2018.1.10)\n",
            "Requirement already satisfied: plac<1.0.0,>=0.9.6 in /usr/local/lib/python3.7/dist-packages (from spacy<=2.0.18,>2.0->rasa_nlu[spacy]) (0.9.6)\n",
            "Requirement already satisfied: msgpack-numpy<0.4.4 in /usr/local/lib/python3.7/dist-packages (from thinc<6.13.0,>=6.12.1->spacy<=2.0.18,>2.0->rasa_nlu[spacy]) (0.4.3.2)\n",
            "Requirement already satisfied: cytoolz<0.10,>=0.9.0 in /usr/local/lib/python3.7/dist-packages (from thinc<6.13.0,>=6.12.1->spacy<=2.0.18,>2.0->rasa_nlu[spacy]) (0.9.0.1)\n",
            "Requirement already satisfied: wrapt<1.11.0,>=1.10.0 in /usr/local/lib/python3.7/dist-packages (from thinc<6.13.0,>=6.12.1->spacy<=2.0.18,>2.0->rasa_nlu[spacy]) (1.10.11)\n",
            "Requirement already satisfied: msgpack<0.6.0,>=0.5.6 in /usr/local/lib/python3.7/dist-packages (from thinc<6.13.0,>=6.12.1->spacy<=2.0.18,>2.0->rasa_nlu[spacy]) (0.5.6)\n",
            "Requirement already satisfied: toolz>=0.8.0 in /usr/local/lib/python3.7/dist-packages (from cytoolz<0.10,>=0.9.0->thinc<6.13.0,>=6.12.1->spacy<=2.0.18,>2.0->rasa_nlu[spacy]) (0.11.2)\n",
            "Requirement already satisfied: constantly>=15.1 in /usr/local/lib/python3.7/dist-packages (from Twisted>=15.5->klein~=17.10->rasa_nlu[spacy]) (15.1.0)\n",
            "Requirement already satisfied: hyperlink>=17.1.1 in /usr/local/lib/python3.7/dist-packages (from Twisted>=15.5->klein~=17.10->rasa_nlu[spacy]) (21.0.0)\n",
            "Requirement already satisfied: zope.interface>=4.4.2 in /usr/local/lib/python3.7/dist-packages (from Twisted>=15.5->klein~=17.10->rasa_nlu[spacy]) (5.4.0)\n",
            "Requirement already satisfied: Automat>=0.8.0 in /usr/local/lib/python3.7/dist-packages (from Twisted>=15.5->klein~=17.10->rasa_nlu[spacy]) (20.2.0)\n",
            "Requirement already satisfied: attrs>=19.2.0 in /usr/local/lib/python3.7/dist-packages (from Twisted>=15.5->klein~=17.10->rasa_nlu[spacy]) (21.4.0)\n",
            "Requirement already satisfied: typing-extensions>=3.6.5 in /usr/local/lib/python3.7/dist-packages (from Twisted>=15.5->klein~=17.10->rasa_nlu[spacy]) (3.10.0.2)\n",
            "Requirement already satisfied: setuptools in /usr/local/lib/python3.7/dist-packages (from zope.interface>=4.4.2->Twisted>=15.5->klein~=17.10->rasa_nlu[spacy]) (57.4.0)\n"
          ]
        }
      ]
    },
    {
      "cell_type": "code",
      "source": [
        "!pip install rasa_core"
      ],
      "metadata": {
        "colab": {
          "base_uri": "https://localhost:8080/"
        },
        "id": "T_i8NEfcJL7k",
        "outputId": "5dc6eaf8-aa77-4e89-bd20-fea86c5f4d16"
      },
      "execution_count": 3,
      "outputs": [
        {
          "output_type": "stream",
          "name": "stdout",
          "text": [
            "Requirement already satisfied: rasa_core in /usr/local/lib/python3.7/dist-packages (0.14.5)\n",
            "Requirement already satisfied: jsonschema~=2.6 in /usr/local/lib/python3.7/dist-packages (from rasa_core) (2.6.0)\n",
            "Requirement already satisfied: rasa-core-sdk~=0.14 in /usr/local/lib/python3.7/dist-packages (from rasa_core) (0.14.0)\n",
            "Requirement already satisfied: rasa-nlu~=0.15 in /usr/local/lib/python3.7/dist-packages (from rasa_core) (0.15.1)\n",
            "Requirement already satisfied: fakeredis~=0.10.0 in /usr/local/lib/python3.7/dist-packages (from rasa_core) (0.10.3)\n",
            "Requirement already satisfied: mattermostwrapper~=2.0 in /usr/local/lib/python3.7/dist-packages (from rasa_core) (2.2)\n",
            "Requirement already satisfied: slackclient~=1.0 in /usr/local/lib/python3.7/dist-packages (from rasa_core) (1.3.2)\n",
            "Requirement already satisfied: pika~=0.12.0 in /usr/local/lib/python3.7/dist-packages (from rasa_core) (0.12.0)\n",
            "Requirement already satisfied: flask-cors~=3.0 in /usr/local/lib/python3.7/dist-packages (from rasa_core) (3.0.10)\n",
            "Requirement already satisfied: scikit-learn~=0.20.0 in /usr/local/lib/python3.7/dist-packages (from rasa_core) (0.20.4)\n",
            "Requirement already satisfied: pydot~=1.4 in /usr/local/lib/python3.7/dist-packages (from rasa_core) (1.4.2)\n",
            "Requirement already satisfied: python-telegram-bot~=11.0 in /usr/local/lib/python3.7/dist-packages (from rasa_core) (11.1.0)\n",
            "Requirement already satisfied: colorclass~=2.2 in /usr/local/lib/python3.7/dist-packages (from rasa_core) (2.2.2)\n",
            "Requirement already satisfied: flask-jwt-simple~=0.0.3 in /usr/local/lib/python3.7/dist-packages (from rasa_core) (0.0.3)\n",
            "Requirement already satisfied: redis~=2.0 in /usr/local/lib/python3.7/dist-packages (from rasa_core) (2.10.6)\n",
            "Requirement already satisfied: tqdm~=4.0 in /usr/local/lib/python3.7/dist-packages (from rasa_core) (4.62.3)\n",
            "Requirement already satisfied: pykwalify~=1.7.0 in /usr/local/lib/python3.7/dist-packages (from rasa_core) (1.7.0)\n",
            "Requirement already satisfied: twilio~=6.0 in /usr/local/lib/python3.7/dist-packages (from rasa_core) (6.63.2)\n",
            "Requirement already satisfied: terminaltables~=3.1 in /usr/local/lib/python3.7/dist-packages (from rasa_core) (3.1.10)\n",
            "Requirement already satisfied: tensorflow~=1.13.0 in /usr/local/lib/python3.7/dist-packages (from rasa_core) (1.13.2)\n",
            "Requirement already satisfied: jsonpickle~=1.0 in /usr/local/lib/python3.7/dist-packages (from rasa_core) (1.5.2)\n",
            "Requirement already satisfied: pytz~=2018.9 in /usr/local/lib/python3.7/dist-packages (from rasa_core) (2018.9)\n",
            "Requirement already satisfied: gevent~=1.3 in /usr/local/lib/python3.7/dist-packages (from rasa_core) (1.5.0)\n",
            "Requirement already satisfied: webexteamssdk~=1.0 in /usr/local/lib/python3.7/dist-packages (from rasa_core) (1.6)\n",
            "Requirement already satisfied: fbmessenger~=5.0 in /usr/local/lib/python3.7/dist-packages (from rasa_core) (5.6.0)\n",
            "Requirement already satisfied: scipy~=1.2 in /usr/local/lib/python3.7/dist-packages (from rasa_core) (1.4.1)\n",
            "Requirement already satisfied: numpy~=1.16 in /usr/local/lib/python3.7/dist-packages (from rasa_core) (1.19.5)\n",
            "Requirement already satisfied: flask~=1.0 in /usr/local/lib/python3.7/dist-packages (from rasa_core) (1.1.4)\n",
            "Requirement already satisfied: python-socketio~=3.0 in /usr/local/lib/python3.7/dist-packages (from rasa_core) (3.1.2)\n",
            "Requirement already satisfied: colorhash~=1.0 in /usr/local/lib/python3.7/dist-packages (from rasa_core) (1.0.4)\n",
            "Requirement already satisfied: python-dateutil~=2.7 in /usr/local/lib/python3.7/dist-packages (from rasa_core) (2.8.2)\n",
            "Requirement already satisfied: rocketchat-API~=0.6.0 in /usr/local/lib/python3.7/dist-packages (from rasa_core) (0.6.36)\n",
            "Requirement already satisfied: pymongo~=3.7 in /usr/local/lib/python3.7/dist-packages (from rasa_core) (3.12.3)\n",
            "Requirement already satisfied: coloredlogs~=10.0 in /usr/local/lib/python3.7/dist-packages (from rasa_core) (10.0)\n",
            "Requirement already satisfied: typing~=3.0 in /usr/local/lib/python3.7/dist-packages (from rasa_core) (3.7.4.3)\n",
            "Requirement already satisfied: networkx~=2.2 in /usr/local/lib/python3.7/dist-packages (from rasa_core) (2.6.3)\n",
            "Requirement already satisfied: packaging~=18.0 in /usr/local/lib/python3.7/dist-packages (from rasa_core) (18.0)\n",
            "Requirement already satisfied: ruamel.yaml~=0.15.0 in /usr/local/lib/python3.7/dist-packages (from rasa_core) (0.15.100)\n",
            "Requirement already satisfied: questionary>=1.0.1 in /usr/local/lib/python3.7/dist-packages (from rasa_core) (1.10.0)\n",
            "Requirement already satisfied: requests~=2.20 in /usr/local/lib/python3.7/dist-packages (from rasa_core) (2.27.1)\n",
            "Requirement already satisfied: apscheduler~=3.0 in /usr/local/lib/python3.7/dist-packages (from rasa_core) (3.8.1)\n",
            "Requirement already satisfied: six>=1.4.0 in /usr/local/lib/python3.7/dist-packages (from apscheduler~=3.0->rasa_core) (1.15.0)\n",
            "Requirement already satisfied: setuptools>=0.7 in /usr/local/lib/python3.7/dist-packages (from apscheduler~=3.0->rasa_core) (57.4.0)\n",
            "Requirement already satisfied: tzlocal!=3.*,>=2.0 in /usr/local/lib/python3.7/dist-packages (from apscheduler~=3.0->rasa_core) (4.1)\n",
            "Requirement already satisfied: humanfriendly>=4.7 in /usr/local/lib/python3.7/dist-packages (from coloredlogs~=10.0->rasa_core) (10.0)\n",
            "Requirement already satisfied: Jinja2<3.0,>=2.10.1 in /usr/local/lib/python3.7/dist-packages (from flask~=1.0->rasa_core) (2.11.3)\n",
            "Requirement already satisfied: click<8.0,>=5.1 in /usr/local/lib/python3.7/dist-packages (from flask~=1.0->rasa_core) (7.1.2)\n",
            "Requirement already satisfied: itsdangerous<2.0,>=0.24 in /usr/local/lib/python3.7/dist-packages (from flask~=1.0->rasa_core) (1.1.0)\n",
            "Requirement already satisfied: Werkzeug<2.0,>=0.15 in /usr/local/lib/python3.7/dist-packages (from flask~=1.0->rasa_core) (1.0.1)\n",
            "Requirement already satisfied: PyJWT in /usr/local/lib/python3.7/dist-packages (from flask-jwt-simple~=0.0.3->rasa_core) (1.7.1)\n",
            "Requirement already satisfied: greenlet>=0.4.14 in /usr/local/lib/python3.7/dist-packages (from gevent~=1.3->rasa_core) (1.1.2)\n",
            "Requirement already satisfied: MarkupSafe>=0.23 in /usr/local/lib/python3.7/dist-packages (from Jinja2<3.0,>=2.10.1->flask~=1.0->rasa_core) (2.0.1)\n",
            "Requirement already satisfied: importlib-metadata in /usr/local/lib/python3.7/dist-packages (from jsonpickle~=1.0->rasa_core) (4.10.1)\n",
            "Requirement already satisfied: pyparsing>=2.0.2 in /usr/local/lib/python3.7/dist-packages (from packaging~=18.0->rasa_core) (3.0.7)\n",
            "Requirement already satisfied: docopt>=0.6.2 in /usr/local/lib/python3.7/dist-packages (from pykwalify~=1.7.0->rasa_core) (0.6.2)\n",
            "Requirement already satisfied: PyYAML>=3.11 in /usr/local/lib/python3.7/dist-packages (from pykwalify~=1.7.0->rasa_core) (3.13)\n",
            "Requirement already satisfied: python-engineio>=3.2.0 in /usr/local/lib/python3.7/dist-packages (from python-socketio~=3.0->rasa_core) (4.3.1)\n",
            "Requirement already satisfied: cryptography in /usr/local/lib/python3.7/dist-packages (from python-telegram-bot~=11.0->rasa_core) (36.0.1)\n",
            "Requirement already satisfied: certifi in /usr/local/lib/python3.7/dist-packages (from python-telegram-bot~=11.0->rasa_core) (2021.10.8)\n",
            "Requirement already satisfied: future>=0.16.0 in /usr/local/lib/python3.7/dist-packages (from python-telegram-bot~=11.0->rasa_core) (0.17.1)\n",
            "Requirement already satisfied: prompt_toolkit<4.0,>=2.0 in /usr/local/lib/python3.7/dist-packages (from questionary>=1.0.1->rasa_core) (2.0.10)\n",
            "Requirement already satisfied: wcwidth in /usr/local/lib/python3.7/dist-packages (from prompt_toolkit<4.0,>=2.0->questionary>=1.0.1->rasa_core) (0.2.5)\n",
            "Requirement already satisfied: ConfigArgParse~=0.13.0 in /usr/local/lib/python3.7/dist-packages (from rasa-core-sdk~=0.14->rasa_core) (0.13.0)\n",
            "Requirement already satisfied: cloudpickle~=0.6.1 in /usr/local/lib/python3.7/dist-packages (from rasa-nlu~=0.15->rasa_core) (0.6.1)\n",
            "Requirement already satisfied: simplejson~=3.13 in /usr/local/lib/python3.7/dist-packages (from rasa-nlu~=0.15->rasa_core) (3.17.6)\n",
            "Requirement already satisfied: boto3~=1.9 in /usr/local/lib/python3.7/dist-packages (from rasa-nlu~=0.15->rasa_core) (1.20.46)\n",
            "Requirement already satisfied: matplotlib~=2.2 in /usr/local/lib/python3.7/dist-packages (from rasa-nlu~=0.15->rasa_core) (2.2.5)\n",
            "Requirement already satisfied: klein~=17.10 in /usr/local/lib/python3.7/dist-packages (from rasa-nlu~=0.15->rasa_core) (17.10.0)\n",
            "Requirement already satisfied: jmespath<1.0.0,>=0.7.1 in /usr/local/lib/python3.7/dist-packages (from boto3~=1.9->rasa-nlu~=0.15->rasa_core) (0.10.0)\n",
            "Requirement already satisfied: botocore<1.24.0,>=1.23.46 in /usr/local/lib/python3.7/dist-packages (from boto3~=1.9->rasa-nlu~=0.15->rasa_core) (1.23.46)\n",
            "Requirement already satisfied: s3transfer<0.6.0,>=0.5.0 in /usr/local/lib/python3.7/dist-packages (from boto3~=1.9->rasa-nlu~=0.15->rasa_core) (0.5.0)\n",
            "Requirement already satisfied: urllib3<1.27,>=1.25.4 in /usr/local/lib/python3.7/dist-packages (from botocore<1.24.0,>=1.23.46->boto3~=1.9->rasa-nlu~=0.15->rasa_core) (1.26.8)\n",
            "Requirement already satisfied: Twisted>=15.5 in /usr/local/lib/python3.7/dist-packages (from klein~=17.10->rasa-nlu~=0.15->rasa_core) (21.7.0)\n",
            "Requirement already satisfied: incremental in /usr/local/lib/python3.7/dist-packages (from klein~=17.10->rasa-nlu~=0.15->rasa_core) (21.3.0)\n",
            "Requirement already satisfied: cycler>=0.10 in /usr/local/lib/python3.7/dist-packages (from matplotlib~=2.2->rasa-nlu~=0.15->rasa_core) (0.11.0)\n",
            "Requirement already satisfied: kiwisolver>=1.0.1 in /usr/local/lib/python3.7/dist-packages (from matplotlib~=2.2->rasa-nlu~=0.15->rasa_core) (1.3.2)\n",
            "Requirement already satisfied: charset-normalizer~=2.0.0 in /usr/local/lib/python3.7/dist-packages (from requests~=2.20->rasa_core) (2.0.10)\n",
            "Requirement already satisfied: idna<4,>=2.5 in /usr/local/lib/python3.7/dist-packages (from requests~=2.20->rasa_core) (2.10)\n",
            "Requirement already satisfied: websocket-client<0.55.0,>=0.35 in /usr/local/lib/python3.7/dist-packages (from slackclient~=1.0->rasa_core) (0.54.0)\n",
            "Requirement already satisfied: protobuf>=3.6.1 in /usr/local/lib/python3.7/dist-packages (from tensorflow~=1.13.0->rasa_core) (3.17.3)\n",
            "Requirement already satisfied: wheel>=0.26 in /usr/local/lib/python3.7/dist-packages (from tensorflow~=1.13.0->rasa_core) (0.37.1)\n",
            "Requirement already satisfied: keras-preprocessing>=1.0.5 in /usr/local/lib/python3.7/dist-packages (from tensorflow~=1.13.0->rasa_core) (1.1.2)\n",
            "Requirement already satisfied: termcolor>=1.1.0 in /usr/local/lib/python3.7/dist-packages (from tensorflow~=1.13.0->rasa_core) (1.1.0)\n",
            "Requirement already satisfied: tensorflow-estimator<1.14.0rc0,>=1.13.0 in /usr/local/lib/python3.7/dist-packages (from tensorflow~=1.13.0->rasa_core) (1.13.0)\n",
            "Requirement already satisfied: grpcio>=1.8.6 in /usr/local/lib/python3.7/dist-packages (from tensorflow~=1.13.0->rasa_core) (1.43.0)\n",
            "Requirement already satisfied: astor>=0.6.0 in /usr/local/lib/python3.7/dist-packages (from tensorflow~=1.13.0->rasa_core) (0.8.1)\n",
            "Requirement already satisfied: absl-py>=0.1.6 in /usr/local/lib/python3.7/dist-packages (from tensorflow~=1.13.0->rasa_core) (1.0.0)\n",
            "Requirement already satisfied: gast>=0.2.0 in /usr/local/lib/python3.7/dist-packages (from tensorflow~=1.13.0->rasa_core) (0.4.0)\n",
            "Requirement already satisfied: tensorboard<1.14.0,>=1.13.0 in /usr/local/lib/python3.7/dist-packages (from tensorflow~=1.13.0->rasa_core) (1.13.1)\n",
            "Requirement already satisfied: keras-applications>=1.0.6 in /usr/local/lib/python3.7/dist-packages (from tensorflow~=1.13.0->rasa_core) (1.0.8)\n",
            "Requirement already satisfied: h5py in /usr/local/lib/python3.7/dist-packages (from keras-applications>=1.0.6->tensorflow~=1.13.0->rasa_core) (2.10.0)\n",
            "Requirement already satisfied: markdown>=2.6.8 in /usr/local/lib/python3.7/dist-packages (from tensorboard<1.14.0,>=1.13.0->tensorflow~=1.13.0->rasa_core) (3.3.6)\n",
            "Requirement already satisfied: zipp>=0.5 in /usr/local/lib/python3.7/dist-packages (from importlib-metadata->jsonpickle~=1.0->rasa_core) (3.7.0)\n",
            "Requirement already satisfied: typing-extensions>=3.6.4 in /usr/local/lib/python3.7/dist-packages (from importlib-metadata->jsonpickle~=1.0->rasa_core) (3.10.0.2)\n",
            "Requirement already satisfied: mock>=2.0.0 in /usr/local/lib/python3.7/dist-packages (from tensorflow-estimator<1.14.0rc0,>=1.13.0->tensorflow~=1.13.0->rasa_core) (4.0.3)\n",
            "Requirement already satisfied: constantly>=15.1 in /usr/local/lib/python3.7/dist-packages (from Twisted>=15.5->klein~=17.10->rasa-nlu~=0.15->rasa_core) (15.1.0)\n",
            "Requirement already satisfied: zope.interface>=4.4.2 in /usr/local/lib/python3.7/dist-packages (from Twisted>=15.5->klein~=17.10->rasa-nlu~=0.15->rasa_core) (5.4.0)\n",
            "Requirement already satisfied: Automat>=0.8.0 in /usr/local/lib/python3.7/dist-packages (from Twisted>=15.5->klein~=17.10->rasa-nlu~=0.15->rasa_core) (20.2.0)\n",
            "Requirement already satisfied: hyperlink>=17.1.1 in /usr/local/lib/python3.7/dist-packages (from Twisted>=15.5->klein~=17.10->rasa-nlu~=0.15->rasa_core) (21.0.0)\n",
            "Requirement already satisfied: attrs>=19.2.0 in /usr/local/lib/python3.7/dist-packages (from Twisted>=15.5->klein~=17.10->rasa-nlu~=0.15->rasa_core) (21.4.0)\n",
            "Requirement already satisfied: backports.zoneinfo in /usr/local/lib/python3.7/dist-packages (from tzlocal!=3.*,>=2.0->apscheduler~=3.0->rasa_core) (0.2.1)\n",
            "Requirement already satisfied: pytz-deprecation-shim in /usr/local/lib/python3.7/dist-packages (from tzlocal!=3.*,>=2.0->apscheduler~=3.0->rasa_core) (0.1.0.post0)\n",
            "Requirement already satisfied: requests-toolbelt in /usr/local/lib/python3.7/dist-packages (from webexteamssdk~=1.0->rasa_core) (0.9.1)\n",
            "Requirement already satisfied: cffi>=1.12 in /usr/local/lib/python3.7/dist-packages (from cryptography->python-telegram-bot~=11.0->rasa_core) (1.15.0)\n",
            "Requirement already satisfied: pycparser in /usr/local/lib/python3.7/dist-packages (from cffi>=1.12->cryptography->python-telegram-bot~=11.0->rasa_core) (2.21)\n",
            "Requirement already satisfied: tzdata in /usr/local/lib/python3.7/dist-packages (from pytz-deprecation-shim->tzlocal!=3.*,>=2.0->apscheduler~=3.0->rasa_core) (2021.5)\n"
          ]
        }
      ]
    },
    {
      "cell_type": "code",
      "source": [
        "!pip install rasa-sdk"
      ],
      "metadata": {
        "colab": {
          "base_uri": "https://localhost:8080/"
        },
        "id": "-OOG4dZ-H1sN",
        "outputId": "e088b2b1-97e9-4937-a0bf-4d7ec73dc940"
      },
      "execution_count": 4,
      "outputs": [
        {
          "output_type": "stream",
          "name": "stdout",
          "text": [
            "Requirement already satisfied: rasa-sdk in /usr/local/lib/python3.7/dist-packages (3.0.4)\n",
            "Requirement already satisfied: uvloop<0.15.0 in /usr/local/lib/python3.7/dist-packages (from rasa-sdk) (0.14.0)\n",
            "Requirement already satisfied: Sanic-Cors<2.0.0,>=1.0.0 in /usr/local/lib/python3.7/dist-packages (from rasa-sdk) (1.0.1)\n",
            "Requirement already satisfied: prompt-toolkit<3.0,>=2.0 in /usr/local/lib/python3.7/dist-packages (from rasa-sdk) (2.0.10)\n",
            "Requirement already satisfied: coloredlogs<16,>=10 in /usr/local/lib/python3.7/dist-packages (from rasa-sdk) (10.0)\n",
            "Requirement already satisfied: typing-extensions<4.0.0,>=3.7.4 in /usr/local/lib/python3.7/dist-packages (from rasa-sdk) (3.10.0.2)\n",
            "Requirement already satisfied: sanic<22.0.0,>=21.6.0 in /usr/local/lib/python3.7/dist-packages (from rasa-sdk) (21.9.3)\n",
            "Requirement already satisfied: requests<3.0,>=2.23 in /usr/local/lib/python3.7/dist-packages (from rasa-sdk) (2.27.1)\n",
            "Requirement already satisfied: urllib3<2.0.0,>=1.26.5 in /usr/local/lib/python3.7/dist-packages (from rasa-sdk) (1.26.8)\n",
            "Requirement already satisfied: humanfriendly>=4.7 in /usr/local/lib/python3.7/dist-packages (from coloredlogs<16,>=10->rasa-sdk) (10.0)\n",
            "Requirement already satisfied: six>=1.9.0 in /usr/local/lib/python3.7/dist-packages (from prompt-toolkit<3.0,>=2.0->rasa-sdk) (1.15.0)\n",
            "Requirement already satisfied: wcwidth in /usr/local/lib/python3.7/dist-packages (from prompt-toolkit<3.0,>=2.0->rasa-sdk) (0.2.5)\n",
            "Requirement already satisfied: charset-normalizer~=2.0.0 in /usr/local/lib/python3.7/dist-packages (from requests<3.0,>=2.23->rasa-sdk) (2.0.10)\n",
            "Requirement already satisfied: certifi>=2017.4.17 in /usr/local/lib/python3.7/dist-packages (from requests<3.0,>=2.23->rasa-sdk) (2021.10.8)\n",
            "Requirement already satisfied: idna<4,>=2.5 in /usr/local/lib/python3.7/dist-packages (from requests<3.0,>=2.23->rasa-sdk) (2.10)\n",
            "Requirement already satisfied: websockets>=10.0 in /usr/local/lib/python3.7/dist-packages (from sanic<22.0.0,>=21.6.0->rasa-sdk) (10.1)\n",
            "Requirement already satisfied: httptools>=0.0.10 in /usr/local/lib/python3.7/dist-packages (from sanic<22.0.0,>=21.6.0->rasa-sdk) (0.3.0)\n",
            "Requirement already satisfied: sanic-routing~=0.7 in /usr/local/lib/python3.7/dist-packages (from sanic<22.0.0,>=21.6.0->rasa-sdk) (0.7.2)\n",
            "Requirement already satisfied: aiofiles>=0.6.0 in /usr/local/lib/python3.7/dist-packages (from sanic<22.0.0,>=21.6.0->rasa-sdk) (0.8.0)\n",
            "Requirement already satisfied: ujson>=1.35 in /usr/local/lib/python3.7/dist-packages (from sanic<22.0.0,>=21.6.0->rasa-sdk) (5.1.0)\n",
            "Requirement already satisfied: multidict<6.0,>=5.0 in /usr/local/lib/python3.7/dist-packages (from sanic<22.0.0,>=21.6.0->rasa-sdk) (5.2.0)\n",
            "Requirement already satisfied: sanic-plugin-toolkit<2,>=1.2.0 in /usr/local/lib/python3.7/dist-packages (from Sanic-Cors<2.0.0,>=1.0.0->rasa-sdk) (1.2.1)\n",
            "Requirement already satisfied: setuptools>=40.8 in /usr/local/lib/python3.7/dist-packages (from sanic-plugin-toolkit<2,>=1.2.0->Sanic-Cors<2.0.0,>=1.0.0->rasa-sdk) (57.4.0)\n"
          ]
        }
      ]
    },
    {
      "cell_type": "code",
      "source": [
        "pip install -U ipython "
      ],
      "metadata": {
        "colab": {
          "base_uri": "https://localhost:8080/"
        },
        "id": "vtXB9pUjKHP8",
        "outputId": "ff5ffda4-ba8d-48ec-b357-1bbc507e54f9"
      },
      "execution_count": 5,
      "outputs": [
        {
          "output_type": "stream",
          "name": "stdout",
          "text": [
            "Requirement already satisfied: ipython in /usr/local/lib/python3.7/dist-packages (7.31.1)\n",
            "Requirement already satisfied: backcall in /usr/local/lib/python3.7/dist-packages (from ipython) (0.2.0)\n",
            "Requirement already satisfied: decorator in /usr/local/lib/python3.7/dist-packages (from ipython) (4.4.2)\n",
            "Requirement already satisfied: pygments in /usr/local/lib/python3.7/dist-packages (from ipython) (2.6.1)\n",
            "Requirement already satisfied: matplotlib-inline in /usr/local/lib/python3.7/dist-packages (from ipython) (0.1.3)\n",
            "Requirement already satisfied: traitlets>=4.2 in /usr/local/lib/python3.7/dist-packages (from ipython) (5.1.1)\n",
            "Requirement already satisfied: pexpect>4.3 in /usr/local/lib/python3.7/dist-packages (from ipython) (4.8.0)\n",
            "Requirement already satisfied: prompt-toolkit!=3.0.0,!=3.0.1,<3.1.0,>=2.0.0 in /usr/local/lib/python3.7/dist-packages (from ipython) (2.0.10)\n",
            "Requirement already satisfied: setuptools>=18.5 in /usr/local/lib/python3.7/dist-packages (from ipython) (57.4.0)\n",
            "Requirement already satisfied: jedi>=0.16 in /usr/local/lib/python3.7/dist-packages (from ipython) (0.18.1)\n",
            "Requirement already satisfied: pickleshare in /usr/local/lib/python3.7/dist-packages (from ipython) (0.7.5)\n",
            "Requirement already satisfied: parso<0.9.0,>=0.8.0 in /usr/local/lib/python3.7/dist-packages (from jedi>=0.16->ipython) (0.8.3)\n",
            "Requirement already satisfied: ptyprocess>=0.5 in /usr/local/lib/python3.7/dist-packages (from pexpect>4.3->ipython) (0.7.0)\n",
            "Requirement already satisfied: six>=1.9.0 in /usr/local/lib/python3.7/dist-packages (from prompt-toolkit!=3.0.0,!=3.0.1,<3.1.0,>=2.0.0->ipython) (1.15.0)\n",
            "Requirement already satisfied: wcwidth in /usr/local/lib/python3.7/dist-packages (from prompt-toolkit!=3.0.0,!=3.0.1,<3.1.0,>=2.0.0->ipython) (0.2.5)\n"
          ]
        }
      ]
    },
    {
      "cell_type": "code",
      "source": [
        "import rasa_core\n",
        "import rasa_nlu\n",
        "import spacy\n",
        "import sys\n",
        "python = sys.executable"
      ],
      "metadata": {
        "colab": {
          "base_uri": "https://localhost:8080/"
        },
        "id": "QVvlzuSvKiNm",
        "outputId": "5b857878-5c7c-4d5a-95e5-81dfbe31dc47"
      },
      "execution_count": 6,
      "outputs": [
        {
          "output_type": "stream",
          "name": "stderr",
          "text": [
            "/usr/lib/python3.7/importlib/_bootstrap.py:219: RuntimeWarning: greenlet.greenlet size changed, may indicate binary incompatibility. Expected 144 from C header, got 152 from PyObject\n",
            "  return f(*args, **kwds)\n",
            "/usr/lib/python3.7/importlib/_bootstrap.py:219: RuntimeWarning: greenlet.greenlet size changed, may indicate binary incompatibility. Expected 144 from C header, got 152 from PyObject\n",
            "  return f(*args, **kwds)\n",
            "/usr/lib/python3.7/importlib/_bootstrap.py:219: RuntimeWarning: greenlet.greenlet size changed, may indicate binary incompatibility. Expected 144 from C header, got 152 from PyObject\n",
            "  return f(*args, **kwds)\n",
            "/usr/lib/python3.7/importlib/_bootstrap.py:219: RuntimeWarning: greenlet.greenlet size changed, may indicate binary incompatibility. Expected 144 from C header, got 152 from PyObject\n",
            "  return f(*args, **kwds)\n",
            "/usr/lib/python3.7/importlib/_bootstrap.py:219: RuntimeWarning: greenlet.greenlet size changed, may indicate binary incompatibility. Expected 144 from C header, got 152 from PyObject\n",
            "  return f(*args, **kwds)\n",
            "/usr/lib/python3.7/importlib/_bootstrap.py:219: RuntimeWarning: greenlet.greenlet size changed, may indicate binary incompatibility. Expected 144 from C header, got 152 from PyObject\n",
            "  return f(*args, **kwds)\n",
            "/usr/local/lib/python3.7/dist-packages/tensorflow/python/framework/dtypes.py:526: FutureWarning: Passing (type, 1) or '1type' as a synonym of type is deprecated; in a future version of numpy, it will be understood as (type, (1,)) / '(1,)type'.\n",
            "  _np_qint8 = np.dtype([(\"qint8\", np.int8, 1)])\n",
            "/usr/local/lib/python3.7/dist-packages/tensorflow/python/framework/dtypes.py:527: FutureWarning: Passing (type, 1) or '1type' as a synonym of type is deprecated; in a future version of numpy, it will be understood as (type, (1,)) / '(1,)type'.\n",
            "  _np_quint8 = np.dtype([(\"quint8\", np.uint8, 1)])\n",
            "/usr/local/lib/python3.7/dist-packages/tensorflow/python/framework/dtypes.py:528: FutureWarning: Passing (type, 1) or '1type' as a synonym of type is deprecated; in a future version of numpy, it will be understood as (type, (1,)) / '(1,)type'.\n",
            "  _np_qint16 = np.dtype([(\"qint16\", np.int16, 1)])\n",
            "/usr/local/lib/python3.7/dist-packages/tensorflow/python/framework/dtypes.py:529: FutureWarning: Passing (type, 1) or '1type' as a synonym of type is deprecated; in a future version of numpy, it will be understood as (type, (1,)) / '(1,)type'.\n",
            "  _np_quint16 = np.dtype([(\"quint16\", np.uint16, 1)])\n",
            "/usr/local/lib/python3.7/dist-packages/tensorflow/python/framework/dtypes.py:530: FutureWarning: Passing (type, 1) or '1type' as a synonym of type is deprecated; in a future version of numpy, it will be understood as (type, (1,)) / '(1,)type'.\n",
            "  _np_qint32 = np.dtype([(\"qint32\", np.int32, 1)])\n",
            "/usr/local/lib/python3.7/dist-packages/tensorflow/python/framework/dtypes.py:535: FutureWarning: Passing (type, 1) or '1type' as a synonym of type is deprecated; in a future version of numpy, it will be understood as (type, (1,)) / '(1,)type'.\n",
            "  np_resource = np.dtype([(\"resource\", np.ubyte, 1)])\n"
          ]
        }
      ]
    },
    {
      "cell_type": "code",
      "source": [
        "!python -m spacy download en_core_web_md"
      ],
      "metadata": {
        "colab": {
          "base_uri": "https://localhost:8080/"
        },
        "id": "4gZlrd2aKxlz",
        "outputId": "ee397de0-829d-4701-fdcb-387fb27422db"
      },
      "execution_count": 7,
      "outputs": [
        {
          "output_type": "stream",
          "name": "stdout",
          "text": [
            "Collecting en_core_web_md==2.0.0\n",
            "  Downloading https://github.com/explosion/spacy-models/releases/download/en_core_web_md-2.0.0/en_core_web_md-2.0.0.tar.gz (120.8 MB)\n",
            "\u001b[K     |████████████████████████████████| 120.8 MB 11.3 MB/s \n",
            "\u001b[?25h\n",
            "\u001b[93m    Linking successful\u001b[0m\n",
            "    /usr/local/lib/python3.7/dist-packages/en_core_web_md -->\n",
            "    /usr/local/lib/python3.7/dist-packages/spacy/data/en_core_web_md\n",
            "\n",
            "    You can now load the model via spacy.load('en_core_web_md')\n",
            "\n"
          ]
        }
      ]
    },
    {
      "cell_type": "code",
      "source": [
        "# Writing various intents with examples to nlu.md file\n",
        "nlu_md = \"\"\"\n",
        "## intent:greet\n",
        "- hey\n",
        "- hello there\n",
        "- hi\n",
        "- hello there\n",
        "- good morning\n",
        "- good evening\n",
        "- how far\n",
        "- hey there\n",
        "- whats up\n",
        "- hey dude\n",
        "- goodmorning\n",
        "- goodevening\n",
        "- good afternoon\n",
        "## intent:goodbye\n",
        "- good by\n",
        "- later\n",
        "- good night\n",
        "- good afternoon\n",
        "- bye\n",
        "- goodbye\n",
        "- have a nice day\n",
        "- see you around\n",
        "- bye bye\n",
        "- see you later\n",
        "## intent:thanks\n",
        "- thanks\n",
        "- thank you\n",
        "- appreciated\n",
        "- gracias\n",
        "## intent:Check Capital\n",
        "- what is the capital of [USA](country)\n",
        "- I need to know the capital of [Russia](country)\n",
        "- can you tell me the capital of [Japan](country)\n",
        "- do you know the capital of [Finland](country)\n",
        "- what is the main city of [Australia](country)\n",
        "- tell me the capital of [Sweden](country)\n",
        "- I wounder what is the capital of [Greece](country)\n",
        "- I want to know the capital of [Egypt](country)\n",
        "- please, tell me the capital of [India](country)\n",
        "## intent:Check Population\n",
        "- what is the population of [USA](country)\n",
        "- I need to know the population of [Japan](country)\n",
        "- can you tell me the population of [Egypt](country)\n",
        "- do you know the population of [Sweden](country)\n",
        "- How many people live in [Greece](country)\n",
        "- tell me the population of [India](country)\n",
        "- I wounder what is the population of [Finland](country)\n",
        "- I want to know the population of [Australia](country)\n",
        "- please, tell me the population of [Russia](country)\n",
        "## intent:choosing_country\n",
        "- 1\n",
        "- 2\n",
        "- 3\n",
        "- 4\n",
        "- 5\n",
        "- 6\n",
        "- 7\n",
        "- 8\n",
        "\"\"\"\n",
        "%store nlu_md >nlu.md"
      ],
      "metadata": {
        "colab": {
          "base_uri": "https://localhost:8080/"
        },
        "id": "9D-CUTe5K5jJ",
        "outputId": "aaca649e-d88d-4cd5-d585-be2b1d3357fd"
      },
      "execution_count": 8,
      "outputs": [
        {
          "output_type": "stream",
          "name": "stdout",
          "text": [
            "Writing 'nlu_md' (str) to file 'nlu.md'.\n"
          ]
        }
      ]
    },
    {
      "cell_type": "code",
      "source": [
        "# Adding the NLU components to the pipeline in config.yml file\n",
        "config = \"\"\"\n",
        "language: \"en_core_web_md\"\n",
        "pipeline:\n",
        "- name: \"nlp_spacy\"                   # loads the spacy language model\n",
        "- name: \"tokenizer_spacy\"             # splits the sentence into tokens\n",
        "- name: \"ner_crf\"                     # uses the pretrained spacy NER model\n",
        "- name: \"intent_featurizer_spacy\"     # transform the sentence into a vector representation\n",
        "- name: \"intent_classifier_sklearn\"   # uses the vector representation to classify using SVM\n",
        "- name: \"ner_synonyms\"                # trains the synonyms\n",
        "policies:\n",
        "- name: \"RulePolicy\"\n",
        "# a confidence >= core_fallback_threshold\n",
        "core_fallback_threshold: 0.68                            # Confidence threshold for the `core_fallback_action_name` to apply.\n",
        "core_fallback_action_name: \"action_default_fallback\"     # The action will apply if no other action was predicted with\n",
        "enable_fallback_prediction: True                         # a confidence >= core_fallback_threshold\n",
        "\"\"\"\n",
        "%store config >config.yml"
      ],
      "metadata": {
        "colab": {
          "base_uri": "https://localhost:8080/"
        },
        "id": "_TCgWq7IRLb3",
        "outputId": "d312ddab-4b26-444d-dc6e-cc30630753ef"
      },
      "execution_count": 9,
      "outputs": [
        {
          "output_type": "stream",
          "name": "stdout",
          "text": [
            "Writing 'config' (str) to file 'config.yml'.\n"
          ]
        }
      ]
    },
    {
      "cell_type": "code",
      "source": [
        "# Import modules for training\n",
        "from rasa_nlu.training_data import load_data\n",
        "from rasa_nlu.config import RasaNLUModelConfig\n",
        "from rasa_nlu.model import Trainer\n",
        "from rasa_nlu import config\n",
        "# loading the nlu training samples\n",
        "training_data = load_data(\"nlu.md\")\n",
        "trainer = Trainer(config.load(\"config.yml\"))\n",
        "# training the nlu\n",
        "interpreter = trainer.train(training_data)\n",
        "model_directory = trainer.persist(\"./models/nlu\", fixed_model_name=\"current\")"
      ],
      "metadata": {
        "colab": {
          "base_uri": "https://localhost:8080/"
        },
        "id": "wCSL3BrIRnVJ",
        "outputId": "8e6969e7-3700-4e15-b0d4-f276d59c9d3d"
      },
      "execution_count": 10,
      "outputs": [
        {
          "output_type": "stream",
          "name": "stdout",
          "text": [
            "Fitting 2 folds for each of 6 candidates, totalling 12 fits\n"
          ]
        },
        {
          "output_type": "stream",
          "name": "stderr",
          "text": [
            "[Parallel(n_jobs=1)]: Using backend SequentialBackend with 1 concurrent workers.\n",
            "/usr/local/lib/python3.7/dist-packages/sklearn/metrics/classification.py:1143: UndefinedMetricWarning: F-score is ill-defined and being set to 0.0 in labels with no predicted samples.\n",
            "  'precision', 'predicted', average, warn_for)\n",
            "/usr/local/lib/python3.7/dist-packages/sklearn/metrics/classification.py:1143: UndefinedMetricWarning: F-score is ill-defined and being set to 0.0 in labels with no predicted samples.\n",
            "  'precision', 'predicted', average, warn_for)\n",
            "/usr/local/lib/python3.7/dist-packages/sklearn/metrics/classification.py:1143: UndefinedMetricWarning: F-score is ill-defined and being set to 0.0 in labels with no predicted samples.\n",
            "  'precision', 'predicted', average, warn_for)\n",
            "/usr/local/lib/python3.7/dist-packages/sklearn/metrics/classification.py:1143: UndefinedMetricWarning: F-score is ill-defined and being set to 0.0 in labels with no predicted samples.\n",
            "  'precision', 'predicted', average, warn_for)\n",
            "/usr/local/lib/python3.7/dist-packages/sklearn/metrics/classification.py:1143: UndefinedMetricWarning: F-score is ill-defined and being set to 0.0 in labels with no predicted samples.\n",
            "  'precision', 'predicted', average, warn_for)\n",
            "/usr/local/lib/python3.7/dist-packages/sklearn/metrics/classification.py:1143: UndefinedMetricWarning: F-score is ill-defined and being set to 0.0 in labels with no predicted samples.\n",
            "  'precision', 'predicted', average, warn_for)\n",
            "[Parallel(n_jobs=1)]: Done  12 out of  12 | elapsed:    0.1s finished\n"
          ]
        }
      ]
    },
    {
      "cell_type": "code",
      "source": [
        "# Testing the NLU model with an input message\n",
        "import json\n",
        "def pprint(o):\n",
        "    print(json.dumps(o, indent=2))\n",
        "pprint(interpreter.parse(\"what is the capital of Germany\"))"
      ],
      "metadata": {
        "colab": {
          "base_uri": "https://localhost:8080/"
        },
        "id": "hIpFWB6vSiL3",
        "outputId": "3c967d60-4ecf-4fb0-cba5-a20784ee918e"
      },
      "execution_count": 11,
      "outputs": [
        {
          "output_type": "stream",
          "name": "stdout",
          "text": [
            "{\n",
            "  \"intent\": {\n",
            "    \"name\": \"Check Capital\",\n",
            "    \"confidence\": 0.8767496201017753\n",
            "  },\n",
            "  \"entities\": [\n",
            "    {\n",
            "      \"start\": 23,\n",
            "      \"end\": 30,\n",
            "      \"value\": \"germany\",\n",
            "      \"entity\": \"country\",\n",
            "      \"confidence\": 0.8335545992672485,\n",
            "      \"extractor\": \"CRFEntityExtractor\"\n",
            "    }\n",
            "  ],\n",
            "  \"intent_ranking\": [\n",
            "    {\n",
            "      \"name\": \"Check Capital\",\n",
            "      \"confidence\": 0.8767496201017753\n",
            "    },\n",
            "    {\n",
            "      \"name\": \"greet\",\n",
            "      \"confidence\": 0.03544658418569139\n",
            "    },\n",
            "    {\n",
            "      \"name\": \"goodbye\",\n",
            "      \"confidence\": 0.028221707322129124\n",
            "    },\n",
            "    {\n",
            "      \"name\": \"Check Population\",\n",
            "      \"confidence\": 0.024437467415179652\n",
            "    },\n",
            "    {\n",
            "      \"name\": \"choosing_country\",\n",
            "      \"confidence\": 0.02113584512742315\n",
            "    },\n",
            "    {\n",
            "      \"name\": \"thanks\",\n",
            "      \"confidence\": 0.014008775847801646\n",
            "    }\n",
            "  ],\n",
            "  \"text\": \"what is the capital of Germany\"\n",
            "}\n"
          ]
        }
      ]
    },
    {
      "cell_type": "code",
      "source": [
        "# Writing stories and saving it in the stories.md file\n",
        "stories_md = \"\"\"\n",
        "##  Greeting path\n",
        "* greet\n",
        "- utter_greet\n",
        "## capital path\n",
        "* choosing_country\n",
        "- utter_country\n",
        "* Check Capital\n",
        "- utter_capital\n",
        "- action_get_capital\n",
        "## Population path\n",
        "* choosing_country\n",
        "- utter_country\n",
        "* Check Population\n",
        "- utter_population\n",
        "## say goodbye\n",
        "* goodbye\n",
        "- utter_goodbye\n",
        "## thanks\n",
        "* thanks\n",
        "- utter_thanks\n",
        "## fallback rule\n",
        "* bot_fallback\n",
        "- action_default_fallback\n",
        "\"\"\"\n",
        "%store stories_md >stories.md"
      ],
      "metadata": {
        "colab": {
          "base_uri": "https://localhost:8080/"
        },
        "id": "rpg2PNQYTNQY",
        "outputId": "cde27705-3364-4f86-cd3b-36240e15665a"
      },
      "execution_count": 12,
      "outputs": [
        {
          "output_type": "stream",
          "name": "stdout",
          "text": [
            "Writing 'stories_md' (str) to file 'stories.md'.\n"
          ]
        }
      ]
    },
    {
      "cell_type": "code",
      "source": [
        "# Writing all the intents,slots,entities,actions and templates to domain.yml\n",
        "domain_yml = \"\"\"\n",
        "intents:\n",
        "- greet\n",
        "- goodbye\n",
        "- Check Capital\n",
        "- Check Population\n",
        "- thanks\n",
        "slots:\n",
        "  country:\n",
        "    type: text\n",
        "entities:\n",
        "- country\n",
        "actions:\n",
        "- utter_greet\n",
        "- utter_country\n",
        "- utter_capital\n",
        "- utter_population\n",
        "- utter_goodbye\n",
        "- utter_thanks\n",
        "- utter_default\n",
        "- action_get_capital\n",
        "templates:\n",
        "  utter_greet:\n",
        "  - text: \"\\n\\n BOT: \\n\\n Hey! How may I help you ? \\n\\n \\n\\n You:\"\n",
        "  utter_country:\n",
        "  - text: \"\\n\\n BOT: \\n\\n Please choose the country:  \\n\\n 1. USA  2. Greece 3. Sweden  4. Australia  5. Finland  6. Japan  7. Russia  8. India  \\n\\n Enter the number of the country you want: \\n\\n \\n\\n  You:\"\n",
        "  utter_capital:\n",
        "  - text: \"\\n\\n BOT: \\n\\n The capital of [country] is . \\n\\n \\n\\n You:\"\n",
        "  utter_population:\n",
        "  - text: \"\\n\\n BOT: \\n\\n The population of [country] is . \\n\\n \\n\\n You:\"\n",
        "  utter_goodbye:\n",
        "  - text: \"\\n\\n BOT: \\n\\n Chatting with you was nice. Waiting for you again. \\n\\n \\n\\n You:\"\n",
        "  utter_thanks:\n",
        "  - text: \"\\n\\n BOT: \\n\\n my pleasure \\n\\n \\n\\n You:\"\n",
        "  utter_default:\n",
        "  - text: \"\\n\\n BOT: \\n\\n I'm sorry, I didn't quite understand that. Could you rephrase? \\n\\n You:\"\n",
        "\"\"\"\n",
        "%store domain_yml >domain.yml"
      ],
      "metadata": {
        "colab": {
          "base_uri": "https://localhost:8080/"
        },
        "id": "AF1Fgi5AZaap",
        "outputId": "aef3be98-4fa0-45a9-fb8d-df44e9f735f6"
      },
      "execution_count": 13,
      "outputs": [
        {
          "output_type": "stream",
          "name": "stdout",
          "text": [
            "Writing 'domain_yml' (str) to file 'domain.yml'.\n"
          ]
        }
      ]
    },
    {
      "cell_type": "markdown",
      "source": [
        "Adding Custom Actions:\n",
        "\n",
        "With an API is created a custom action that affords the chatbot to retrieve an answer for the country entity capital or population depending on the user inputs. The chatbot will know which type of answer should be given by retrieving the value from the slot 'group'."
      ],
      "metadata": {
        "id": "8PSswe1qV90i"
      }
    },
    {
      "cell_type": "code",
      "source": [
        "# from rasa_core.actions import Action\n",
        "# from rasa_core.events import SlotSet\n",
        "# from IPython.core.display import Image, display\n",
        "\n",
        "# import requests\n",
        "\n",
        "# class ApiAction(Action):\n",
        "#     def name(self):\n",
        "#         return \"action_get_info\"\n",
        "\n",
        "#     def run(self, dispatcher, tracker, domain):\n",
        "        \n",
        "#         group = tracker.get_slot('Ambulance','Insurance','Fire','Police','Air_rescue','Road_help')\n",
        "        \n",
        "#         r = requests.get('http://shibe.online/api/{}?count=1&urls=true&httpsUrls=true'.format(group))\n",
        "#         response = r.content.decode()\n",
        "#         response = response.replace('[\"',\"\")\n",
        "#         response = response.replace('\"]',\"\")\n"
      ],
      "metadata": {
        "id": "7du3_y33WVXh"
      },
      "execution_count": 14,
      "outputs": []
    },
    {
      "cell_type": "code",
      "source": [
        "from typing import Any, Text, Dict, List\n",
        "\n",
        "from rasa_sdk import Action, Tracker\n",
        "from rasa_sdk.events import SlotSet\n",
        "from rasa_sdk.executor import CollectingDispatcher\n",
        "import requests\n",
        "\n",
        "\n",
        "class ActionCheckCapital(Action):\n",
        "\n",
        "    def name(self)-> Text:\n",
        "        return \"action_get_capital\"\n",
        "    \n",
        "    def run(self, dispatcher, tracker, domain):\n",
        "        api_key = 'Your API Key'\n",
        "        loc = tracker.get_slot('country')\n",
        "        current = requests.get('https://restcountries.com/v3.1/name/{}?fullText=true'.format(loc)).json()\n",
        "        print(current)\n",
        "        name= current['name']['official']\n",
        "        capital = current['capital']\n",
        "        population = current['population']\n",
        "        response = \"\"\"The Capital of {} is {} and population is {} \"\"\".format(name, capital, population)\n",
        "        dispatcher.utter_message(response)\n",
        "        return [SlotSet('country', loc)]\n"
      ],
      "metadata": {
        "id": "Aataxzta7XTi"
      },
      "execution_count": 15,
      "outputs": []
    },
    {
      "cell_type": "code",
      "source": [
        "# Import the policies and agent\n",
        "from rasa_core.policies import FallbackPolicy, MemoizationPolicy,KerasPolicy\n",
        "from rasa_core.agent import Agent\n",
        "# Initialize the model with `domain.yml`\n",
        "agent = Agent('domain.yml', policies=[MemoizationPolicy(), KerasPolicy(), ])\n",
        "# loading our  training dialogues from `stories.md`\n",
        "training_data = agent.load_data('stories.md')\n",
        "# Training the model\n",
        "agent.train(\n",
        "training_data)\n",
        "#validation_split=0.0,\n",
        "#epochs=200)\n",
        "agent.persist('models/dialogue')"
      ],
      "metadata": {
        "colab": {
          "base_uri": "https://localhost:8080/"
        },
        "id": "JLpXaHY4ilv-",
        "outputId": "97a9f4b7-7d1a-4794-816a-394830b51d8f"
      },
      "execution_count": 16,
      "outputs": [
        {
          "output_type": "stream",
          "name": "stderr",
          "text": [
            "Processed Story Blocks: 100%|██████████| 6/6 [00:00<00:00, 260.22it/s, # trackers=1]\n",
            "Processed Story Blocks: 100%|██████████| 6/6 [00:00<00:00, 192.38it/s, # trackers=6]\n",
            "Processed Story Blocks: 100%|██████████| 6/6 [00:00<00:00, 89.12it/s, # trackers=19]\n",
            "Processed Story Blocks: 100%|██████████| 6/6 [00:00<00:00, 66.63it/s, # trackers=16]\n",
            "Processed actions: 16it [00:00, 555.76it/s, # examples=16]\n"
          ]
        },
        {
          "output_type": "stream",
          "name": "stdout",
          "text": [
            "WARNING:tensorflow:From /usr/local/lib/python3.7/dist-packages/tensorflow/python/ops/resource_variable_ops.py:435: colocate_with (from tensorflow.python.framework.ops) is deprecated and will be removed in a future version.\n",
            "Instructions for updating:\n",
            "Colocations handled automatically by placer.\n",
            "WARNING:tensorflow:From /usr/local/lib/python3.7/dist-packages/tensorflow/python/keras/backend.py:4010: calling dropout (from tensorflow.python.ops.nn_ops) with keep_prob is deprecated and will be removed in a future version.\n",
            "Instructions for updating:\n",
            "Please use `rate` instead of `keep_prob`. Rate should be set to `rate = 1 - keep_prob`.\n",
            "_________________________________________________________________\n",
            "Layer (type)                 Output Shape              Param #   \n",
            "=================================================================\n",
            "masking (Masking)            (None, 5, 23)             0         \n",
            "_________________________________________________________________\n",
            "lstm (LSTM)                  (None, 32)                7168      \n",
            "_________________________________________________________________\n",
            "dense (Dense)                (None, 16)                528       \n",
            "_________________________________________________________________\n",
            "activation (Activation)      (None, 16)                0         \n",
            "=================================================================\n",
            "Total params: 7,696\n",
            "Trainable params: 7,696\n",
            "Non-trainable params: 0\n",
            "_________________________________________________________________\n",
            "WARNING:tensorflow:From /usr/local/lib/python3.7/dist-packages/tensorflow/python/ops/math_ops.py:3066: to_int32 (from tensorflow.python.ops.math_ops) is deprecated and will be removed in a future version.\n",
            "Instructions for updating:\n",
            "Use tf.cast instead.\n",
            "Epoch 1/100\n",
            "280/280 [==============================] - 1s 3ms/sample - loss: 2.7003 - acc: 0.2786\n",
            "Epoch 2/100\n",
            "280/280 [==============================] - 0s 312us/sample - loss: 2.5639 - acc: 0.4286\n",
            "Epoch 3/100\n",
            "280/280 [==============================] - 0s 587us/sample - loss: 2.4226 - acc: 0.4786\n",
            "Epoch 4/100\n",
            "280/280 [==============================] - 0s 471us/sample - loss: 2.2388 - acc: 0.4786\n",
            "Epoch 5/100\n",
            "280/280 [==============================] - 0s 459us/sample - loss: 2.0469 - acc: 0.4786\n",
            "Epoch 6/100\n",
            "280/280 [==============================] - 0s 390us/sample - loss: 1.9349 - acc: 0.4786\n",
            "Epoch 7/100\n",
            "280/280 [==============================] - 0s 420us/sample - loss: 1.8712 - acc: 0.4786\n",
            "Epoch 8/100\n",
            "280/280 [==============================] - 0s 387us/sample - loss: 1.8062 - acc: 0.4786\n",
            "Epoch 9/100\n",
            "280/280 [==============================] - 0s 419us/sample - loss: 1.7811 - acc: 0.4786\n",
            "Epoch 10/100\n",
            "280/280 [==============================] - 0s 418us/sample - loss: 1.7559 - acc: 0.4786\n",
            "Epoch 11/100\n",
            "280/280 [==============================] - 0s 390us/sample - loss: 1.7145 - acc: 0.4786\n",
            "Epoch 12/100\n",
            "280/280 [==============================] - 0s 383us/sample - loss: 1.6970 - acc: 0.4786\n",
            "Epoch 13/100\n",
            "280/280 [==============================] - 0s 385us/sample - loss: 1.6770 - acc: 0.4786\n",
            "Epoch 14/100\n",
            "280/280 [==============================] - 0s 385us/sample - loss: 1.6402 - acc: 0.4786\n",
            "Epoch 15/100\n",
            "280/280 [==============================] - 0s 382us/sample - loss: 1.6225 - acc: 0.4786\n",
            "Epoch 16/100\n",
            "280/280 [==============================] - 0s 411us/sample - loss: 1.5965 - acc: 0.4786\n",
            "Epoch 17/100\n",
            "280/280 [==============================] - 0s 378us/sample - loss: 1.5643 - acc: 0.4786\n",
            "Epoch 18/100\n",
            "280/280 [==============================] - 0s 557us/sample - loss: 1.5327 - acc: 0.4786\n",
            "Epoch 19/100\n",
            "280/280 [==============================] - 0s 523us/sample - loss: 1.5073 - acc: 0.4786\n",
            "Epoch 20/100\n",
            "280/280 [==============================] - 0s 397us/sample - loss: 1.4842 - acc: 0.4821\n",
            "Epoch 21/100\n",
            "280/280 [==============================] - 0s 433us/sample - loss: 1.4422 - acc: 0.4786\n",
            "Epoch 22/100\n",
            "280/280 [==============================] - 0s 399us/sample - loss: 1.4287 - acc: 0.4786\n",
            "Epoch 23/100\n",
            "280/280 [==============================] - 0s 530us/sample - loss: 1.3916 - acc: 0.4786\n",
            "Epoch 24/100\n",
            "280/280 [==============================] - 0s 535us/sample - loss: 1.3602 - acc: 0.4786\n",
            "Epoch 25/100\n",
            "280/280 [==============================] - 0s 612us/sample - loss: 1.3204 - acc: 0.4821\n",
            "Epoch 26/100\n",
            "280/280 [==============================] - 0s 523us/sample - loss: 1.2993 - acc: 0.4857\n",
            "Epoch 27/100\n",
            "280/280 [==============================] - 0s 506us/sample - loss: 1.2670 - acc: 0.4929\n",
            "Epoch 28/100\n",
            "280/280 [==============================] - 0s 503us/sample - loss: 1.2150 - acc: 0.5214\n",
            "Epoch 29/100\n",
            "280/280 [==============================] - 0s 526us/sample - loss: 1.1933 - acc: 0.5357\n",
            "Epoch 30/100\n",
            "280/280 [==============================] - 0s 521us/sample - loss: 1.1621 - acc: 0.5750\n",
            "Epoch 31/100\n",
            "280/280 [==============================] - 0s 424us/sample - loss: 1.1295 - acc: 0.6071\n",
            "Epoch 32/100\n",
            "280/280 [==============================] - 0s 614us/sample - loss: 1.0800 - acc: 0.6429\n",
            "Epoch 33/100\n",
            "280/280 [==============================] - 0s 435us/sample - loss: 1.0498 - acc: 0.6429\n",
            "Epoch 34/100\n",
            "280/280 [==============================] - 0s 414us/sample - loss: 1.0296 - acc: 0.6821\n",
            "Epoch 35/100\n",
            "280/280 [==============================] - 0s 456us/sample - loss: 1.0014 - acc: 0.7071\n",
            "Epoch 36/100\n",
            "280/280 [==============================] - 0s 675us/sample - loss: 0.9867 - acc: 0.7071\n",
            "Epoch 37/100\n",
            "280/280 [==============================] - 0s 504us/sample - loss: 0.9696 - acc: 0.7000\n",
            "Epoch 38/100\n",
            "280/280 [==============================] - 0s 548us/sample - loss: 0.9233 - acc: 0.7286\n",
            "Epoch 39/100\n",
            "280/280 [==============================] - 0s 496us/sample - loss: 0.9084 - acc: 0.7179\n",
            "Epoch 40/100\n",
            "280/280 [==============================] - 0s 547us/sample - loss: 0.8948 - acc: 0.7214\n",
            "Epoch 41/100\n",
            "280/280 [==============================] - 0s 556us/sample - loss: 0.8946 - acc: 0.7214\n",
            "Epoch 42/100\n",
            "280/280 [==============================] - 0s 499us/sample - loss: 0.8615 - acc: 0.7786\n",
            "Epoch 43/100\n",
            "280/280 [==============================] - 0s 558us/sample - loss: 0.8637 - acc: 0.7393\n",
            "Epoch 44/100\n",
            "280/280 [==============================] - 0s 449us/sample - loss: 0.8406 - acc: 0.7536\n",
            "Epoch 45/100\n",
            "280/280 [==============================] - 0s 449us/sample - loss: 0.8203 - acc: 0.7857\n",
            "Epoch 46/100\n",
            "280/280 [==============================] - 0s 438us/sample - loss: 0.8518 - acc: 0.7643\n",
            "Epoch 47/100\n",
            "280/280 [==============================] - 0s 429us/sample - loss: 0.7885 - acc: 0.8214\n",
            "Epoch 48/100\n",
            "280/280 [==============================] - 0s 430us/sample - loss: 0.7625 - acc: 0.8321\n",
            "Epoch 49/100\n",
            "280/280 [==============================] - 0s 456us/sample - loss: 0.7725 - acc: 0.8071\n",
            "Epoch 50/100\n",
            "280/280 [==============================] - 0s 586us/sample - loss: 0.7447 - acc: 0.8357\n",
            "Epoch 51/100\n",
            "280/280 [==============================] - 0s 596us/sample - loss: 0.7334 - acc: 0.8357\n",
            "Epoch 52/100\n",
            "280/280 [==============================] - 0s 497us/sample - loss: 0.7175 - acc: 0.8286\n",
            "Epoch 53/100\n",
            "280/280 [==============================] - 0s 522us/sample - loss: 0.6970 - acc: 0.8464\n",
            "Epoch 54/100\n",
            "280/280 [==============================] - 0s 755us/sample - loss: 0.6806 - acc: 0.8393\n",
            "Epoch 55/100\n",
            "280/280 [==============================] - 0s 474us/sample - loss: 0.6870 - acc: 0.8393\n",
            "Epoch 56/100\n",
            "280/280 [==============================] - 0s 416us/sample - loss: 0.6826 - acc: 0.8214\n",
            "Epoch 57/100\n",
            "280/280 [==============================] - 0s 531us/sample - loss: 0.6647 - acc: 0.8500\n",
            "Epoch 58/100\n",
            "280/280 [==============================] - 0s 550us/sample - loss: 0.6491 - acc: 0.8214\n",
            "Epoch 59/100\n",
            "280/280 [==============================] - 0s 540us/sample - loss: 0.6513 - acc: 0.8607\n",
            "Epoch 60/100\n",
            "280/280 [==============================] - 0s 752us/sample - loss: 0.6522 - acc: 0.8536\n",
            "Epoch 61/100\n",
            "280/280 [==============================] - 0s 586us/sample - loss: 0.6203 - acc: 0.8714\n",
            "Epoch 62/100\n",
            "280/280 [==============================] - 0s 531us/sample - loss: 0.5965 - acc: 0.8500\n",
            "Epoch 63/100\n",
            "280/280 [==============================] - 0s 613us/sample - loss: 0.6338 - acc: 0.8321\n",
            "Epoch 64/100\n",
            "280/280 [==============================] - 0s 502us/sample - loss: 0.5846 - acc: 0.8500\n",
            "Epoch 65/100\n",
            "280/280 [==============================] - 0s 590us/sample - loss: 0.5770 - acc: 0.8536\n",
            "Epoch 66/100\n",
            "280/280 [==============================] - 0s 411us/sample - loss: 0.5640 - acc: 0.8536\n",
            "Epoch 67/100\n",
            "280/280 [==============================] - 0s 579us/sample - loss: 0.5716 - acc: 0.8464\n",
            "Epoch 68/100\n",
            "280/280 [==============================] - 0s 381us/sample - loss: 0.5333 - acc: 0.8607\n",
            "Epoch 69/100\n",
            "280/280 [==============================] - 0s 445us/sample - loss: 0.5225 - acc: 0.8679\n",
            "Epoch 70/100\n",
            "280/280 [==============================] - 0s 473us/sample - loss: 0.5067 - acc: 0.8643\n",
            "Epoch 71/100\n",
            "280/280 [==============================] - 0s 464us/sample - loss: 0.4928 - acc: 0.8786\n",
            "Epoch 72/100\n",
            "280/280 [==============================] - 0s 497us/sample - loss: 0.4963 - acc: 0.8536\n",
            "Epoch 73/100\n",
            "280/280 [==============================] - 0s 409us/sample - loss: 0.5162 - acc: 0.8321\n",
            "Epoch 74/100\n",
            "280/280 [==============================] - 0s 407us/sample - loss: 0.4762 - acc: 0.8679\n",
            "Epoch 75/100\n",
            "280/280 [==============================] - 0s 389us/sample - loss: 0.4768 - acc: 0.8643\n",
            "Epoch 76/100\n",
            "280/280 [==============================] - 0s 395us/sample - loss: 0.4783 - acc: 0.8643\n",
            "Epoch 77/100\n",
            "280/280 [==============================] - 0s 383us/sample - loss: 0.4671 - acc: 0.8571\n",
            "Epoch 78/100\n",
            "280/280 [==============================] - 0s 398us/sample - loss: 0.4347 - acc: 0.8964\n",
            "Epoch 79/100\n",
            "280/280 [==============================] - 0s 403us/sample - loss: 0.4635 - acc: 0.8464\n",
            "Epoch 80/100\n",
            "280/280 [==============================] - 0s 526us/sample - loss: 0.4176 - acc: 0.8714\n",
            "Epoch 81/100\n",
            "280/280 [==============================] - 0s 528us/sample - loss: 0.4159 - acc: 0.8929\n",
            "Epoch 82/100\n",
            "280/280 [==============================] - 0s 414us/sample - loss: 0.4247 - acc: 0.8607\n",
            "Epoch 83/100\n",
            "280/280 [==============================] - 0s 385us/sample - loss: 0.4397 - acc: 0.8571\n",
            "Epoch 84/100\n",
            "280/280 [==============================] - 0s 389us/sample - loss: 0.4160 - acc: 0.8679\n",
            "Epoch 85/100\n",
            "280/280 [==============================] - 0s 411us/sample - loss: 0.4350 - acc: 0.8536\n",
            "Epoch 86/100\n",
            "280/280 [==============================] - 0s 411us/sample - loss: 0.4269 - acc: 0.8679\n",
            "Epoch 87/100\n",
            "280/280 [==============================] - 0s 463us/sample - loss: 0.3577 - acc: 0.8893\n",
            "Epoch 88/100\n",
            "280/280 [==============================] - 0s 584us/sample - loss: 0.4056 - acc: 0.8786\n",
            "Epoch 89/100\n",
            "280/280 [==============================] - 0s 421us/sample - loss: 0.3645 - acc: 0.8679\n",
            "Epoch 90/100\n",
            "280/280 [==============================] - 0s 378us/sample - loss: 0.3861 - acc: 0.8643\n",
            "Epoch 91/100\n",
            "280/280 [==============================] - 0s 242us/sample - loss: 0.3910 - acc: 0.8536\n",
            "Epoch 92/100\n",
            "280/280 [==============================] - 0s 262us/sample - loss: 0.3705 - acc: 0.8571\n",
            "Epoch 93/100\n",
            "280/280 [==============================] - 0s 264us/sample - loss: 0.3437 - acc: 0.8857\n",
            "Epoch 94/100\n",
            "280/280 [==============================] - 0s 276us/sample - loss: 0.3550 - acc: 0.8857\n",
            "Epoch 95/100\n",
            "280/280 [==============================] - 0s 271us/sample - loss: 0.3322 - acc: 0.8607\n",
            "Epoch 96/100\n",
            "280/280 [==============================] - 0s 248us/sample - loss: 0.3447 - acc: 0.8571\n",
            "Epoch 97/100\n",
            "280/280 [==============================] - 0s 222us/sample - loss: 0.3371 - acc: 0.8607\n",
            "Epoch 98/100\n",
            "280/280 [==============================] - 0s 286us/sample - loss: 0.3410 - acc: 0.8607\n",
            "Epoch 99/100\n",
            "280/280 [==============================] - 0s 326us/sample - loss: 0.2962 - acc: 0.8786\n",
            "Epoch 100/100\n",
            "280/280 [==============================] - 0s 261us/sample - loss: 0.3297 - acc: 0.8643\n"
          ]
        }
      ]
    },
    {
      "cell_type": "code",
      "source": [
        "!pip uninstall h5py\n",
        "!pip install h5py==2.10.0"
      ],
      "metadata": {
        "colab": {
          "base_uri": "https://localhost:8080/",
          "height": 319
        },
        "id": "ODx-PtXfi5HH",
        "outputId": "b9e90d4b-724b-4834-b34a-9c7e5c59f7d9"
      },
      "execution_count": 17,
      "outputs": [
        {
          "output_type": "stream",
          "name": "stdout",
          "text": [
            "Found existing installation: h5py 2.10.0\n",
            "Uninstalling h5py-2.10.0:\n",
            "  Would remove:\n",
            "    /usr/local/lib/python3.7/dist-packages/h5py-2.10.0.dist-info/*\n",
            "    /usr/local/lib/python3.7/dist-packages/h5py/*\n",
            "Proceed (y/n)? y\n",
            "  Successfully uninstalled h5py-2.10.0\n",
            "Collecting h5py==2.10.0\n",
            "  Using cached h5py-2.10.0-cp37-cp37m-manylinux1_x86_64.whl (2.9 MB)\n",
            "Requirement already satisfied: six in /usr/local/lib/python3.7/dist-packages (from h5py==2.10.0) (1.15.0)\n",
            "Requirement already satisfied: numpy>=1.7 in /usr/local/lib/python3.7/dist-packages (from h5py==2.10.0) (1.19.5)\n",
            "Installing collected packages: h5py\n",
            "Successfully installed h5py-2.10.0\n"
          ]
        },
        {
          "output_type": "display_data",
          "data": {
            "application/vnd.colab-display-data+json": {
              "pip_warning": {
                "packages": [
                  "h5py"
                ]
              }
            }
          },
          "metadata": {}
        }
      ]
    },
    {
      "cell_type": "code",
      "source": [
        "#Starting the Bot\n",
        "from rasa_core.agent import Agent\n",
        "agent = Agent.load('models/dialogue', interpreter=model_directory)"
      ],
      "metadata": {
        "colab": {
          "base_uri": "https://localhost:8080/"
        },
        "id": "0HnEYuiWmYeK",
        "outputId": "8475c038-3710-4606-dbe2-4f0a1cb67b13"
      },
      "execution_count": 18,
      "outputs": [
        {
          "output_type": "stream",
          "name": "stdout",
          "text": [
            "\n",
            "WARNING: The TensorFlow contrib module will not be included in TensorFlow 2.0.\n",
            "For more information, please see:\n",
            "  * https://github.com/tensorflow/community/blob/master/rfcs/20180907-contrib-sunset.md\n",
            "  * https://github.com/tensorflow/addons\n",
            "If you depend on functionality not listed there, please file an issue.\n",
            "\n"
          ]
        }
      ]
    },
    {
      "cell_type": "code",
      "source": [
        "print(\"Your bot is ready to talk! Type your messages here or send 'stop'\" + \"\\n\\n\" + \"You:\")\n",
        "while True:\n",
        "    a = input()\n",
        "    if a == 'stop':\n",
        "        break\n",
        "    responses = agent.handle_message(a)\n",
        "    for response in responses:\n",
        "        print(response[\"text\"])\n"
      ],
      "metadata": {
        "colab": {
          "base_uri": "https://localhost:8080/"
        },
        "id": "hUeJwT83pE46",
        "outputId": "47faca9f-dbe7-4c96-eaa4-443a3c0ba82b"
      },
      "execution_count": 19,
      "outputs": [
        {
          "name": "stdout",
          "output_type": "stream",
          "text": [
            "Your bot is ready to talk! Type your messages here or send 'stop'\n",
            "\n",
            "You:\n",
            "hello\n",
            "\n",
            "BOT:\n",
            "Hey! How may I help you ?\n",
            "\n",
            "You:\n",
            "good morning\n",
            "\n",
            "BOT:\n",
            "Hey! How may I help you ?\n",
            "\n",
            "You:\n",
            "tell me the capital of france\n",
            "\n",
            "BOT:\n",
            "I'm sorry, I didn't quite understand that. Could you rephrase?\n",
            "You:\n",
            "what is the population of USA\n",
            "\n",
            "BOT:\n",
            "Please choose the country:\n",
            "1. USA  2. Greece 3. Sweden  4. Australia  5. Finland  6. Japan  7. Russia  8. India\n",
            "Enter the number of the country you want:\n",
            "\n",
            "You:\n",
            "1\n",
            "\n",
            "BOT:\n",
            "The population of [country] is .\n",
            "\n",
            "You:\n",
            "what is the capital of USA\n",
            "\n",
            "BOT:\n",
            "The capital of [country] is .\n",
            "\n",
            "You:\n",
            "thank you\n",
            "\n",
            "BOT:\n",
            "my pleasure\n",
            "\n",
            "You:\n",
            "bye\n",
            "\n",
            "BOT:\n",
            "Chatting with you was nice. Waiting for you again.\n",
            "\n",
            "You:\n",
            "stop\n"
          ]
        }
      ]
    },
    {
      "cell_type": "code",
      "source": [
        "!zip -r models.zip models/"
      ],
      "metadata": {
        "colab": {
          "base_uri": "https://localhost:8080/"
        },
        "id": "t8kyFgkUq0gs",
        "outputId": "00c22c62-8de3-458d-91c4-6616c59efd98"
      },
      "execution_count": 20,
      "outputs": [
        {
          "output_type": "stream",
          "name": "stdout",
          "text": [
            "updating: models/ (stored 0%)\n",
            "updating: models/dialogue/ (stored 0%)\n",
            "updating: models/dialogue/policy_0_MemoizationPolicy/ (stored 0%)\n",
            "updating: models/dialogue/policy_0_MemoizationPolicy/featurizer.json (deflated 43%)\n",
            "updating: models/dialogue/policy_0_MemoizationPolicy/memorized_turns.json (deflated 50%)\n",
            "updating: models/dialogue/policy_1_KerasPolicy/ (stored 0%)\n",
            "updating: models/dialogue/policy_1_KerasPolicy/featurizer.json (deflated 59%)\n",
            "updating: models/dialogue/policy_1_KerasPolicy/keras_model.h5 (deflated 32%)\n",
            "updating: models/dialogue/policy_1_KerasPolicy/keras_policy.json (deflated 15%)\n",
            "updating: models/dialogue/policy_1_KerasPolicy/keras_policy.tf_config.pkl (stored 0%)\n",
            "updating: models/dialogue/metadata.json (deflated 60%)\n",
            "updating: models/dialogue/domain.yml (deflated 57%)\n",
            "updating: models/dialogue/domain.json (deflated 67%)\n",
            "updating: models/nlu/ (stored 0%)\n",
            "updating: models/nlu/default/ (stored 0%)\n",
            "updating: models/nlu/default/current/ (stored 0%)\n",
            "updating: models/nlu/default/current/training_data.json (deflated 90%)\n",
            "updating: models/nlu/default/current/component_4_SklearnIntentClassifier.pkl (deflated 46%)\n",
            "updating: models/nlu/default/current/metadata.json (deflated 75%)\n",
            "updating: models/nlu/default/current/component_2_CRFEntityExtractor.pkl (deflated 72%)\n"
          ]
        }
      ]
    },
    {
      "cell_type": "code",
      "source": [
        ""
      ],
      "metadata": {
        "id": "Kr46puQuubXN"
      },
      "execution_count": 20,
      "outputs": []
    }
  ]
}